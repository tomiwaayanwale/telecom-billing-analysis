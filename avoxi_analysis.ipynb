{
 "cells": [
  {
   "cell_type": "code",
   "execution_count": 1,
   "id": "bc636262",
   "metadata": {},
   "outputs": [],
   "source": [
    "## importing labiary\n",
    "\n",
    "import pandas as pd\n",
    "import numpy as np\n",
    "import matplotlib.pyplot as plt"
   ]
  },
  {
   "cell_type": "code",
   "execution_count": 2,
   "id": "6adadad3",
   "metadata": {},
   "outputs": [
    {
     "name": "stdout",
     "output_type": "stream",
     "text": [
      "data loaded succefully!\n"
     ]
    }
   ],
   "source": [
    "## importing data \n",
    "file_path='billing.xlsx'\n",
    "\n",
    "#loading eacch sheet\n",
    "df_jan=pd.read_excel(file_path,sheet_name='Jan')\n",
    "df_feb=pd.read_excel(file_path,sheet_name='Feb')\n",
    "df_mar=pd.read_excel(file_path,sheet_name='March')\n",
    "df_client_rates=pd.read_excel(file_path,sheet_name='Rates - Clients')\n",
    "df_vendor_rates=pd.read_excel(file_path,sheet_name='Rates - Carrier')\n",
    "\n",
    "print(\"data loaded succefully!\")\n"
   ]
  },
  {
   "cell_type": "code",
   "execution_count": 3,
   "id": "65f1e73e",
   "metadata": {},
   "outputs": [
    {
     "name": "stdout",
     "output_type": "stream",
     "text": [
      "Combined DataFrame shape: (108104, 4)\n"
     ]
    }
   ],
   "source": [
    "# Combine the monthly billing data into a single DataFrame\n",
    "df_billing = pd.concat([df_jan, df_feb, df_mar], ignore_index=True)\n",
    "\n",
    "# Display the number of rows and columns to confirm the data was combined\n",
    "print(f\"Combined DataFrame shape: {df_billing.shape}\")"
   ]
  },
  {
   "cell_type": "code",
   "execution_count": 7,
   "id": "9daa1315",
   "metadata": {},
   "outputs": [
    {
     "name": "stdout",
     "output_type": "stream",
     "text": [
      "Index(['Customer', 'Account ID (phone mumber)', 'Duration (Seconds)',\n",
      "       'Called From', 'Country_x', 'Number Type_x', 'LandLine Rate_x',\n",
      "       'Mobile Rate_x', 'Vendor', 'Country_y', 'Number Type_y',\n",
      "       'LandLine Rate_y', 'Mobile Rate_y'],\n",
      "      dtype='object')\n"
     ]
    }
   ],
   "source": [
    "\n",
    "#merge the billing data with the client rates \n",
    "df_billing = pd.merge(df_billing,df_client_rates, on='Account ID (phone mumber)',how='left')\n",
    "\n",
    "#merge the billing data with the vendor rates \n",
    "df_billing = pd.merge(df_billing,df_vendor_rates, on='Account ID (phone mumber)',how='left')\n",
    "\n",
    "# print the colums to confirm the new rate coulmns have been added\n",
    "print(df_billing.columns)\n"
   ]
  },
  {
   "cell_type": "code",
   "execution_count": 8,
   "id": "5d5c4183",
   "metadata": {},
   "outputs": [
    {
     "name": "stdout",
     "output_type": "stream",
     "text": [
      "Combined DataFrame shape: (108104, 13)\n",
      "\n",
      "WARNING: The following calls have no matching client rates:\n",
      "      Customer  Account ID (phone mumber)\n",
      "18324      NaN                        NaN\n",
      "18325      NaN                        NaN\n",
      "18326      NaN                        NaN\n",
      "18327      NaN                        NaN\n",
      "18328      NaN                        NaN\n",
      "Total number of calls with missing client rates: 35982\n",
      "\n",
      "WARNING: The following calls have no matching vendor rates:\n",
      "      Customer  Account ID (phone mumber)\n",
      "18324      NaN                        NaN\n",
      "18325      NaN                        NaN\n",
      "18326      NaN                        NaN\n",
      "18327      NaN                        NaN\n",
      "18328      NaN                        NaN\n",
      "Total number of calls with missing vendor rates: 35982\n"
     ]
    }
   ],
   "source": [
    "# Display the number of rows and columns to confirm the data was combined\n",
    "print(f\"Combined DataFrame shape: {df_billing.shape}\")\n",
    "\n",
    "# Check for rows in the billing data that don't have a matching client rate\n",
    "missing_client_rates = df_billing[df_billing['LandLine Rate_x'].isnull() | df_billing['Mobile Rate_x'].isnull()]\n",
    "\n",
    "if not missing_client_rates.empty:\n",
    "    print(\"\\nWARNING: The following calls have no matching client rates:\")\n",
    "    print(missing_client_rates[['Customer', 'Account ID (phone mumber)']].head())\n",
    "    print(f\"Total number of calls with missing client rates: {len(missing_client_rates)}\")\n",
    "else:\n",
    "    print(\"\\nAll calls have a matching client rate. Data is consistent.\")\n",
    "\n",
    "# Check for rows in the billing data that don't have a matching vendor rate\n",
    "missing_vendor_rates = df_billing[df_billing['LandLine Rate_y'].isnull() | df_billing['Mobile Rate_y'].isnull()]\n",
    "\n",
    "if not missing_vendor_rates.empty:\n",
    "    print(\"\\nWARNING: The following calls have no matching vendor rates:\")\n",
    "    print(missing_vendor_rates[['Customer','Account ID (phone mumber)']].head())\n",
    "    print(f\"Total number of calls with missing vendor rates: {len(missing_vendor_rates)}\")\n",
    "else:\n",
    "    print(\"\\nAll calls have a matching vendor rate. Data is consistent.\")"
   ]
  },
  {
   "cell_type": "code",
   "execution_count": 9,
   "id": "3dc7ead2",
   "metadata": {},
   "outputs": [],
   "source": [
    "# filling the missing rates values with 0.0\n",
    "df_billing['LandLine Rate_x'].fillna(0.0, inplace=True)\n",
    "df_billing['Mobile Rate_x'].fillna(0.0, inplace=True)\n",
    "df_billing['Mobile Rate_y'].fillna(0.0, inplace=True)\n",
    "df_billing['LandLine Rate_y'].fillna(0.0, inplace=True)"
   ]
  },
  {
   "cell_type": "code",
   "execution_count": 10,
   "id": "fe5eb247",
   "metadata": {},
   "outputs": [
    {
     "name": "stdout",
     "output_type": "stream",
     "text": [
      "Revenue calculated successfully.\n",
      "   Duration (Seconds)  client_billable_minutes Number Type_x  revenue\n",
      "0               114.0                      2.0           DID      0.2\n",
      "1                72.0                      2.0           DID      0.2\n",
      "2               231.0                      4.0           DID      0.4\n",
      "3                67.0                      2.0           DID      0.2\n",
      "4                52.0                      1.0           DID      0.1\n"
     ]
    }
   ],
   "source": [
    "# Calculate client billing duration in minutes (rounded up)\n",
    "df_billing['client_billable_minutes'] = np.ceil(df_billing['Duration (Seconds)'] / 60)\n",
    "\n",
    "# Calculate revenue based on number type and client rates\n",
    "# Assuming 'number type' is in df_client_rates after the merge\n",
    "df_billing['revenue'] = df_billing.apply(\n",
    "    lambda row: row['client_billable_minutes'] * row['LandLine Rate_x'] if row['Number Type_x'] == 'LandLine'\n",
    "    else row['client_billable_minutes'] * row['Mobile Rate_x'], axis=1\n",
    ")\n",
    "\n",
    "print(\"Revenue calculated successfully.\")\n",
    "print(df_billing[['Duration (Seconds)', 'client_billable_minutes', 'Number Type_x', 'revenue']].head())\n"
   ]
  },
  {
   "cell_type": "code",
   "execution_count": 11,
   "id": "438242c9",
   "metadata": {},
   "outputs": [],
   "source": [
    "# Function to calculate cost based on vendor billing rules\n",
    "def calculate_cost(row):\n",
    "    vendor = row['Vendor']\n",
    "    duration_seconds = row['Duration (Seconds)']\n",
    "    # selecting rate based on vendor number type column\n",
    "    if row['Number Type_y']=='LandLine':\n",
    "        rate=row['LandLine Rate_y']\n",
    "    else:\n",
    "        rate=row['Mobile Rate_y']\n",
    "\n",
    "    if vendor == 'Vendor 1':\n",
    "        # Bill every 6 seconds.\n",
    "        billable_units = np.ceil(duration_seconds / 6)\n",
    "        cost = billable_units * rate\n",
    "    elif vendor == 'Vendor 2':\n",
    "        # Per second billing.\n",
    "        cost = duration_seconds * rate\n",
    "    elif vendor == 'Vendor 3':\n",
    "        # Per minute billing.\n",
    "        billable_units = np.ceil(duration_seconds / 60)\n",
    "        cost = billable_units * rate\n",
    "    elif vendor == 'Vendor 4':\n",
    "        # First 30 seconds, then every 6 seconds.\n",
    "        if duration_seconds <= 30:\n",
    "            cost = 30 * rate # Bill for 30 seconds\n",
    "        else:\n",
    "            billable_units = np.ceil((duration_seconds - 30) / 6)\n",
    "            cost = (30 + billable_units * 6) * rate\n",
    "    elif vendor == 'Vendor 5':\n",
    "        # Every 30 seconds.\n",
    "        billable_units = np.ceil(duration_seconds / 30)\n",
    "        cost = billable_units * rate\n",
    "    else:\n",
    "        cost = 0  # Handle unknown vendors\n",
    "\n",
    "    return cost"
   ]
  },
  {
   "cell_type": "code",
   "execution_count": 12,
   "id": "40ca05fe",
   "metadata": {},
   "outputs": [
    {
     "name": "stdout",
     "output_type": "stream",
     "text": [
      "\n",
      "Cost calculated successfully.\n",
      "     Vendor  Duration (Seconds)  cost\n",
      "0  Vendor 5               114.0  0.28\n",
      "1  Vendor 5                72.0  0.21\n",
      "2  Vendor 5               231.0  0.56\n",
      "3  Vendor 5                67.0  0.21\n",
      "4  Vendor 5                52.0  0.14\n",
      "Total Billing per Client:\n",
      "\n",
      "     Customer    revenue\n",
      "0    Client 1   3358.442\n",
      "1  Client 10   13360.500\n",
      "2  Client 11      97.600\n",
      "3  Client 12     101.300\n",
      "4  Client 13       9.450\n",
      "\n",
      "Gross Margin by Client (%):\n",
      "\n",
      "     Customer  gross_margin_percent\n",
      "0    Client 1          -1372.523849\n",
      "1  Client 10            -425.724992\n",
      "2  Client 11              28.739754\n",
      "3  Client 12           -1045.700888\n",
      "4  Client 13               6.666667\n"
     ]
    }
   ],
   "source": [
    "# Apply the cost calculation function to each row\n",
    "df_billing['cost'] = df_billing.apply(calculate_cost, axis=1)\n",
    "\n",
    "print(\"\\nCost calculated successfully.\")\n",
    "print(df_billing[['Vendor', 'Duration (Seconds)', 'cost']].head())\n",
    "\n",
    "# ---\n",
    "\n",
    "# Create a new column for gross margin in dollar value\n",
    "df_billing['gross_margin_dollars'] = df_billing['revenue'] - df_billing['cost']\n",
    "\n",
    "# Total billing (revenue) per client\n",
    "total_billing_per_client = df_billing.groupby('Customer')['revenue'].sum().reset_index()\n",
    "print(\"Total Billing per Client:\\n\")\n",
    "print(total_billing_per_client.head())\n",
    "\n",
    "# Gross Margin by Client in % form\n",
    "gross_margin_by_client = df_billing.groupby('Customer').apply(\n",
    "    lambda x: (x['gross_margin_dollars'].sum() / x['revenue'].sum()) * 100\n",
    ").to_frame('gross_margin_percent').reset_index()\n",
    "print(\"\\nGross Margin by Client (%):\\n\")\n",
    "print(gross_margin_by_client.head())"
   ]
  },
  {
   "cell_type": "code",
   "execution_count": 13,
   "id": "fba1a66c",
   "metadata": {},
   "outputs": [
    {
     "name": "stdout",
     "output_type": "stream",
     "text": [
      "Total Revenue: $127,294.19\n",
      "Total Cost: $2,386,496.26\n",
      "Total Gross Margin: $-2,259,202.07\n",
      "Overall Gross Margin Percentage: -1774.79%\n"
     ]
    }
   ],
   "source": [
    "# Calculate total values for the entire billing period\n",
    "total_revenue = df_billing['revenue'].sum()\n",
    "total_cost = df_billing['cost'].sum()\n",
    "total_gross_margin = df_billing['gross_margin_dollars'].sum()\n",
    "overall_gross_margin_percent = (total_gross_margin / total_revenue) * 100\n",
    "\n",
    "print(f\"Total Revenue: ${total_revenue:,.2f}\")\n",
    "print(f\"Total Cost: ${total_cost:,.2f}\")\n",
    "print(f\"Total Gross Margin: ${total_gross_margin:,.2f}\")\n",
    "print(f\"Overall Gross Margin Percentage: {overall_gross_margin_percent:.2f}%\")"
   ]
  },
  {
   "cell_type": "code",
   "execution_count": 14,
   "id": "415614bd",
   "metadata": {},
   "outputs": [
    {
     "name": "stdout",
     "output_type": "stream",
     "text": [
      "\n",
      "Performance by Vendor:\n",
      "     Vendor  total_revenue    total_cost  gross_margin_dollars  \\\n",
      "0  Vendor 1      46728.136  3.070166e+05         -2.602885e+05   \n",
      "1  Vendor 2      11039.060  3.937186e+05         -3.826796e+05   \n",
      "2  Vendor 3      17371.221  9.858966e+03          7.512255e+03   \n",
      "3  Vendor 4      43209.601  1.671218e+06         -1.628009e+06   \n",
      "4  Vendor 5       8946.171  4.683664e+03          4.262506e+03   \n",
      "\n",
      "   gross_margin_percent  \n",
      "0           -557.027291  \n",
      "1          -3466.595686  \n",
      "2             43.245403  \n",
      "3          -3767.701493  \n",
      "4             47.646155  \n"
     ]
    }
   ],
   "source": [
    "# Group data by vendor and calculate total revenue, cost, and margin\n",
    "vendor_performance = df_billing.groupby('Vendor').agg(\n",
    "    total_revenue=('revenue', 'sum'),\n",
    "    total_cost=('cost', 'sum'),\n",
    "    gross_margin_dollars=('gross_margin_dollars', 'sum')\n",
    ").reset_index()\n",
    "\n",
    "# Calculate gross margin percentage for each vendor\n",
    "vendor_performance['gross_margin_percent'] = (\n",
    "    vendor_performance['gross_margin_dollars'] / vendor_performance['total_revenue']\n",
    ") * 100\n",
    "\n",
    "print(\"\\nPerformance by Vendor:\")\n",
    "print(vendor_performance)"
   ]
  },
  {
   "cell_type": "code",
   "execution_count": 27,
   "id": "29415054",
   "metadata": {},
   "outputs": [],
   "source": [
    "# total cost per vendor \n",
    "total_vendor_cost=df_billing.groupby('Vendor')['cost'].sum()"
   ]
  },
  {
   "cell_type": "code",
   "execution_count": 15,
   "id": "b3c4b84e",
   "metadata": {},
   "outputs": [
    {
     "name": "stdout",
     "output_type": "stream",
     "text": [
      "Total Revenue: $127,294.19\n",
      "Total Cost: $2,386,496.26\n",
      "Total Gross Margin: $-2,259,202.07\n",
      "Overall Gross Margin Percentage: -1774.79%\n"
     ]
    }
   ],
   "source": [
    "# Calculate total values for the entire billing period\n",
    "total_revenue = df_billing['revenue'].sum()\n",
    "total_cost = df_billing['cost'].sum()\n",
    "total_gross_margin = df_billing['gross_margin_dollars'].sum()\n",
    "overall_gross_margin_percent = (total_gross_margin / total_revenue) * 100\n",
    "\n",
    "print(f\"Total Revenue: ${total_revenue:,.2f}\")\n",
    "print(f\"Total Cost: ${total_cost:,.2f}\")\n",
    "print(f\"Total Gross Margin: ${total_gross_margin:,.2f}\")\n",
    "print(f\"Overall Gross Margin Percentage: {overall_gross_margin_percent:.2f}%\")"
   ]
  },
  {
   "cell_type": "code",
   "execution_count": 16,
   "id": "098f8b70",
   "metadata": {},
   "outputs": [
    {
     "name": "stdout",
     "output_type": "stream",
     "text": [
      "\n",
      "Performance by Vendor:\n",
      "     Vendor  total_revenue    total_cost  gross_margin_dollars  \\\n",
      "0  Vendor 1      46728.136  3.070166e+05         -2.602885e+05   \n",
      "1  Vendor 2      11039.060  3.937186e+05         -3.826796e+05   \n",
      "2  Vendor 3      17371.221  9.858966e+03          7.512255e+03   \n",
      "3  Vendor 4      43209.601  1.671218e+06         -1.628009e+06   \n",
      "4  Vendor 5       8946.171  4.683664e+03          4.262506e+03   \n",
      "\n",
      "   gross_margin_percent  \n",
      "0           -557.027291  \n",
      "1          -3466.595686  \n",
      "2             43.245403  \n",
      "3          -3767.701493  \n",
      "4             47.646155  \n"
     ]
    }
   ],
   "source": [
    "# Group data by vendor and calculate total revenue, cost, and margin\n",
    "vendor_performance = df_billing.groupby('Vendor').agg(\n",
    "    total_revenue=('revenue', 'sum'),\n",
    "    total_cost=('cost', 'sum'),\n",
    "    gross_margin_dollars=('gross_margin_dollars', 'sum')\n",
    ").reset_index()\n",
    "\n",
    "# Calculate gross margin percentage for each vendor\n",
    "vendor_performance['gross_margin_percent'] = (\n",
    "    vendor_performance['gross_margin_dollars'] / vendor_performance['total_revenue']\n",
    ") * 100\n",
    "\n",
    "print(\"\\nPerformance by Vendor:\")\n",
    "print(vendor_performance)"
   ]
  },
  {
   "cell_type": "code",
   "execution_count": 17,
   "id": "bbb073e8",
   "metadata": {},
   "outputs": [
    {
     "data": {
      "image/png": "[encoded data removed]",
      "text/plain": [
       "<Figure size 640x480 with 1 Axes>"
      ]
     },
     "metadata": {},
     "output_type": "display_data"
    }
   ],
   "source": [
    "# Plot total revenue and cost by vendor\n",
    "vendor_performance.set_index('Vendor')[['total_revenue', 'total_cost']].plot(kind='bar')\n",
    "plt.title('Total Revenue vs. Total Cost by Vendor')\n",
    "plt.xlabel('Vendor')\n",
    "plt.ylabel('Amount in Dollars')\n",
    "plt.xticks(rotation=45)\n",
    "plt.legend(loc='upper left')\n",
    "plt.tight_layout()\n",
    "plt.show()"
   ]
  },
  {
   "cell_type": "code",
   "execution_count": 37,
   "id": "1ab5938e",
   "metadata": {},
   "outputs": [],
   "source": [
    "#  Gross margin by CLIENT \n",
    "gm_client = df_billing.groupby('Customer').agg(\n",
    "    revenue=('revenue', 'sum'),\n",
    "    cost=('cost', 'sum')\n",
    ").reset_index()\n",
    "gm_client['gross_margin_percent'] = ((gm_client['revenue'] - gm_client['cost']) / gm_client['revenue']) * 100"
   ]
  },
  {
   "cell_type": "code",
   "execution_count": 36,
   "id": "3dae93af",
   "metadata": {},
   "outputs": [],
   "source": [
    "#  Gross margin by COUNTRY \n",
    "gm_country = df_billing.groupby('Country_x').agg(\n",
    "    revenue=('revenue', 'sum'),\n",
    "    cost=('cost', 'sum')\n",
    ").reset_index()\n",
    "gm_country['gross_margin_percent'] = ((gm_country['revenue'] - gm_country['cost']) / gm_country['revenue']) * 100"
   ]
  },
  {
   "cell_type": "code",
   "execution_count": 35,
   "id": "968d1406",
   "metadata": {},
   "outputs": [],
   "source": [
    "#  Gross margin by CARRIER (VENDOR)\n",
    "gm_carrier = df_billing.groupby('Vendor').agg(\n",
    "    revenue=('revenue', 'sum'),\n",
    "    cost=('cost', 'sum')\n",
    ").reset_index()\n",
    "gm_carrier['gross_margin_percent'] = ((gm_carrier['revenue'] - gm_carrier['cost']) / gm_carrier['revenue']) * 100\n"
   ]
  },
  {
   "cell_type": "code",
   "execution_count": 34,
   "id": "2fa5e761",
   "metadata": {},
   "outputs": [],
   "source": [
    "#  Gross margin by NUMBER TYPE\n",
    "gm_numbertype = df_billing.groupby('Number Type_x').agg(\n",
    "    revenue=('revenue', 'sum'),\n",
    "    cost=('cost', 'sum')\n",
    ").reset_index()\n",
    "gm_numbertype['gross_margin_percent'] = ((gm_numbertype['revenue'] - gm_numbertype['cost']) / gm_numbertype['revenue']) * 100"
   ]
  },
  {
   "cell_type": "code",
   "execution_count": 24,
   "id": "b3c144ad",
   "metadata": {},
   "outputs": [
    {
     "name": "stdout",
     "output_type": "stream",
     "text": [
      "Gross Margin after +7% mobile / +20% landline: -1462.32%\n"
     ]
    }
   ],
   "source": [
    "#  Scenario modeling: +7% Mobile, +20% Landline \n",
    "def apply_rate_increase(df, mobile_increase=0.07, landline_increase=0.20):\n",
    "    df = df.copy()\n",
    "    df['new_revenue'] = df.apply(\n",
    "        lambda x: x['revenue'] * (1 + mobile_increase) if x['Number Type_x'] == 'Mobile'\n",
    "        else x['revenue'] * (1 + landline_increase),\n",
    "        axis=1\n",
    "    )\n",
    "    return df\n",
    "\n",
    "scenario = apply_rate_increase(df_billing)\n",
    "total_rev_scenario = scenario['new_revenue'].sum()\n",
    "total_cost_scenario = scenario['cost'].sum()\n",
    "gm_new = ((total_rev_scenario - total_cost_scenario) / total_rev_scenario) * 100\n",
    "print(f\"Gross Margin after +7% mobile / +20% landline: {gm_new:.2f}%\")"
   ]
  },
  {
   "cell_type": "code",
   "execution_count": 47,
   "id": "608ee86b",
   "metadata": {},
   "outputs": [],
   "source": [
    "# preparing scenario result as a dataframe\n",
    "Scenario=pd.DataFrame({\n",
    "    'Metric':['Gross Margin after +7%/+20%'],\n",
    "    'value':[gm_new]\n",
    "})"
   ]
  },
  {
   "cell_type": "code",
   "execution_count": 25,
   "id": "f64aea2d",
   "metadata": {},
   "outputs": [],
   "source": [
    "#  Find single rate increase needed to hit 45% GM \n",
    "def margin_for_multiplier(mult):\n",
    "    df = df_billing.copy()\n",
    "    df['new_revenue'] = df['revenue'] * (1 + mult)\n",
    "    total_rev = df['new_revenue'].sum()\n",
    "    total_cost = df['cost'].sum()\n",
    "    return ((total_rev - total_cost) / total_rev) * 100\n",
    "\n",
    "for m in np.arange(0, 1.1, 0.01):\n",
    "    gm = margin_for_multiplier(m)\n",
    "    if gm >= 45:\n",
    "        print(f\"Uniform rate increase required: {m*100:.1f}% to reach {gm:.1f}% gross margin\")\n",
    "        break"
   ]
  },
  {
   "cell_type": "code",
   "execution_count": 31,
   "id": "6673e03a",
   "metadata": {},
   "outputs": [],
   "source": [
    "## Gross margin by country/country/client\n",
    "gm_ccc=(\n",
    "df_billing.groupby(['Country_x','Vendor','Customer']).apply(lambda g:(g['revenue'].sum()-g['cost'].sum())/g['revenue'].sum()\n",
    "                                                            *100)\n",
    "\n",
    ").reset_index(name='Gross_margin_%')"
   ]
  },
  {
   "cell_type": "code",
   "execution_count": 38,
   "id": "55196059",
   "metadata": {},
   "outputs": [
    {
     "name": "stdout",
     "output_type": "stream",
     "text": [
      "Current Gross Margin: -1774.79%\n",
      "Required Revenue: 4,339,084.11\n",
      "Rate Multiplier to hit 45% GM: 34.087 (i.e., increase client rates by 3308.7%)\n"
     ]
    }
   ],
   "source": [
    "# getting 45% gross margin\n",
    "#Calculate current totals\n",
    "current_revenue = df_billing['revenue'].sum()  \n",
    "current_cost = df_billing['cost'].sum()  \n",
    "\n",
    "# Desired gross margin target\n",
    "target_margin = 0.45\n",
    "\n",
    "# Calculate required revenue to hit 45% margin\n",
    "required_revenue = current_cost / (1 - target_margin)\n",
    "\n",
    "# Calculate multiplier on client rates\n",
    "rate_multiplier = required_revenue / current_revenue\n",
    "\n",
    "print(f\"Current Gross Margin: {((current_revenue - current_cost)/current_revenue)*100:.2f}%\")\n",
    "print(f\"Required Revenue: {required_revenue:,.2f}\")\n",
    "print(f\"Rate Multiplier to hit 45% GM: {rate_multiplier:.3f} (i.e., increase client rates by {(rate_multiplier-1)*100:.1f}%)\")"
   ]
  },
  {
   "cell_type": "code",
   "execution_count": 55,
   "id": "ecbebc58",
   "metadata": {},
   "outputs": [],
   "source": [
    "# preparing gross margin at 25 percent as dataframe\n",
    "gm_45=pd.DataFrame({\n",
    "    'current_gross_margin':[((current_revenue - current_cost)/current_revenue)*100],\n",
    "    'required revenue':[required_revenue],\n",
    "    'rate multiplier':[rate_multiplier],\n",
    "    'Increase_%':[(rate_multiplier-1)*100]\n",
    "})"
   ]
  },
  {
   "cell_type": "code",
   "execution_count": 57,
   "id": "da0931fb",
   "metadata": {},
   "outputs": [
    {
     "name": "stdout",
     "output_type": "stream",
     "text": [
      "     Vendor    Total cost\n",
      "0  Vendor 1  3.070166e+05\n",
      "1  Vendor 2  3.937186e+05\n",
      "2  Vendor 3  9.858966e+03\n",
      "3  Vendor 4  1.671218e+06\n",
      "4  Vendor 5  4.683664e+03\n"
     ]
    }
   ],
   "source": [
    "# group by vendor and sum cost\n",
    "Total_vendor_cost =df_billing.groupby('Vendor')['cost'].sum().reset_index()\n",
    "\n",
    "#rename the column for clarity \n",
    "Total_vendor_cost.rename(columns={'cost':'Total cost'},inplace= True)\n",
    "print(Total_vendor_cost )"
   ]
  },
  {
   "cell_type": "code",
   "execution_count": 64,
   "id": "f30efc66",
   "metadata": {},
   "outputs": [],
   "source": [
    "#  Clean column names to avoid confusion ---\n",
    "df_billing = df_billing.rename(columns={\n",
    "    'Country_x': 'Client_Country',\n",
    "    'Number Type_x': 'Client_NumberType',\n",
    "    'LandLine Rate_x': 'Client_LandlineRate',\n",
    "    'Mobile Rate_x': 'Client_MobileRate',\n",
    "    'Country_y': 'Vendor_Country',\n",
    "    'Number Type_y': 'Vendor_NumberType',\n",
    "    'LandLine Rate_y': 'Vendor_LandlineRate',\n",
    "    'Mobile Rate_y': 'Vendor_MobileRate'\n",
    "})"
   ]
  },
  {
   "cell_type": "code",
   "execution_count": 65,
   "id": "5336c29e",
   "metadata": {},
   "outputs": [
    {
     "name": "stdout",
     "output_type": "stream",
     "text": [
      "All results exported successfully to avoxi_analysis_results.xlsx\n"
     ]
    }
   ],
   "source": [
    "#Export everything to one Excel file\n",
    "with pd.ExcelWriter('avoxi_analysis_results.xlsx', engine='openpyxl') as writer:\n",
    "    total_billing_per_client.to_excel(writer, sheet_name='Total Billing per Client', index=False)\n",
    "    gm_client.to_excel(writer, sheet_name='Margin by Client', index=False)\n",
    "    gm_country.to_excel(writer, sheet_name='Margin by Country', index=False)\n",
    "    gm_carrier.to_excel(writer, sheet_name='Margin by Carrier', index=False)\n",
    "    gm_numbertype.to_excel(writer, sheet_name='Margin by Number Type', index=False)\n",
    "    Total_vendor_cost.to_excel(writer, sheet_name='Cost per Vendor', index=False)\n",
    "    gm_ccc.to_excel(writer, sheet_name='Margin by Country-Carrier-Client', index=False)\n",
    "    Scenario.to_excel(writer, sheet_name='Scenario +7% +20%', index=False)\n",
    "    gm_45.to_excel(writer, sheet_name='Target 45% Gross Margin', index=False)\n",
    "print(\"All results exported successfully to avoxi_analysis_results.xlsx\")"
   ]
  }
 ],
 "metadata": {
  "kernelspec": {
   "display_name": "Python 3 (ipykernel)",
   "language": "python",
   "name": "python3"
  },
  "language_info": {
   "codemirror_mode": {
    "name": "ipython",
    "version": 3
   },
   "file_extension": ".py",
   "mimetype": "text/x-python",
   "name": "python",
   "nbconvert_exporter": "python",
   "pygments_lexer": "ipython3",
   "version": "3.11.7"
  }
 },
 "nbformat": 4,
 "nbformat_minor": 5
}
